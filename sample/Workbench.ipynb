{
 "cells": [
  {
   "cell_type": "code",
   "execution_count": 1,
   "metadata": {},
   "outputs": [
    {
     "name": "stdout",
     "output_type": "stream",
     "text": [
      "Using matplotlib backend: TkAgg\n"
     ]
    }
   ],
   "source": [
    "%matplotlib\n",
    "import json\n",
    "from tqdm import tqdm\n",
    "from string import ascii_uppercase\n",
    "from itertools import permutations\n",
    "\n",
    "import cv2\n",
    "import numpy as np\n",
    "import pandas as pd\n",
    "import matplotlib.pyplot as plt\n",
    "from matplotlib.style import use\n",
    "\n",
    "from mminput import KinoveaFile\n",
    "from HikeClass import Hike\n",
    "from KinematicClass import Kinematic\n",
    "from video.proccess import image_proccess, grouping, roi_center\n",
    "use('ggplot')"
   ]
  },
  {
   "cell_type": "code",
   "execution_count": 22,
   "metadata": {
    "collapsed": true
   },
   "outputs": [],
   "source": [
    "# with open('esquema-4.json') as fh:\n",
    "#     schema = json.load(fh)\n",
    "\n",
    "# path1 = '/home/mariano/Escritorio/marcha/matiak/pre/PreQx-Der@Matiak.txt'\n",
    "# path2 = '/home/mariano/Escritorio/marcha/matiak/pre/PreQx-Der2@Matiak.txt'\n",
    "# path3 = '/home/mariano/Escritorio/marcha/matiak/pre/PreQx-Der3@Matiak.txt'\n",
    "\n",
    "# hikes = []\n",
    "# for path in (path1, path2, path3):\n",
    "#     kv = KinoveaFile(path, schema)\n",
    "#     h = Hike(schema, 0, (np.zeros(()), 0))\n",
    "#     h.kinovea_input(kv)\n",
    "#     hikes.append(h)\n",
    "# k = Kinematic(hikes)"
   ]
  },
  {
   "cell_type": "code",
   "execution_count": null,
   "metadata": {
    "collapsed": true,
    "scrolled": true
   },
   "outputs": [],
   "source": [
    "# # path1 = '/home/mariano/Descargas/VID_20170720_132629833.mp4'  # Belen\n",
    "# # path2 = '/home/mariano/Descargas/VID_20170720_133000367.mp4'  # Belen corriendo\n",
    "# # path3 = '/home/mariano/Descargas/VID_20170728_112226772.mp4'  # Maxi Hissa\n",
    "\n",
    "# path1 = '/home/mariano/Descargas/VID_20170831_093451442.mp4'  # Ferrando v\n",
    "# path2 = '/home/mariano/Descargas/VID_20170831_095319235.mp4'  # Ferrando o\n",
    "# path3 = '/home/mariano/Descargas/VID_20170831_100017607.mp4'  # Ferrando l\n",
    "\n",
    "# # path1 = '/home/mariano/Escritorio/marcha/Carla Minxo/VID_20170906_133539527.mp4'\n",
    "# # path2 = '/home/mariano/Escritorio/marcha/Carla Minxo/VID_20170906_134024147.mp4'\n",
    "# # path3 = '/home/mariano/Escritorio/marcha/Carla Minxo/VID_20170906_134919420.mp4'\n",
    "\n",
    "# with open('esquema-7.json') as fh:\n",
    "#     schema = json.load(fh)\n",
    "\n",
    "# code = tuple(permutations(ascii_uppercase, 2))\n",
    "\n",
    "# kinematics = []\n",
    "# for path in (path1, path2, path3):\n",
    "#     vid = cv2.VideoCapture(path)\n",
    "#     fps = vid.get(cv2.CAP_PROP_FPS)\n",
    "#     frames_num = int(vid.get(cv2.CAP_PROP_FRAME_COUNT))\n",
    "#     expected_markers = schema['n.markers']\n",
    "#     M = sum(expected_markers)\n",
    "#     safe_None = 1.5 * fps\n",
    "#     last_M = 0\n",
    "#     active = False\n",
    "#     count_non_data = 0\n",
    "#     hikes = []\n",
    "#     n_metrics = 5\n",
    "#     metrics = np.zeros(())\n",
    "    \n",
    "#     hike = None\n",
    "#     h = 0\n",
    "#     for i in tqdm(xrange(frames_num)):\n",
    "#         __, frame = vid.read()\n",
    "#         m, mark = image_proccess(frame)\n",
    "#         if mark.any():\n",
    "#             if m == M:\n",
    "#                 active = True\n",
    "#                 if not hike:\n",
    "#                     hike = Hike(schema, fps, (metrics, .3))\n",
    "#                     h += 1\n",
    "#                 if not hike.start_videoframe_position:\n",
    "#                     hike.start_videoframe_position = i\n",
    "#                 last_M = i\n",
    "#                 count_non_data = 0\n",
    "#     ############################################################################################################\n",
    "#     # Se adiciona código para obtener metricas.\n",
    "#     # Esta parte del codigo es peligrosa.. debe hacerce notar la importancia de inciar con metricas cada video.\n",
    "#             if (not metrics.any() and not active) and i < 50:  # DEBUG HARDCORE\n",
    "#                 if m == n_metrics:\n",
    "#                     metrics = mark\n",
    "#     ############################################################################################################\n",
    "#             if active:\n",
    "#                 if m != M:\n",
    "#                     to_interp, groups = grouping(mark, expected_markers, kr)\n",
    "#                     hike.add_markers_from_videoframe(i, groups)\n",
    "#                     hike.add_index_to_interpolate(i, to_interp)\n",
    "#                 else:\n",
    "#                     __, groups = grouping(mark, expected_markers)\n",
    "#                     kr = roi_center(groups[1])\n",
    "#                     hike.add_markers_from_videoframe(i, groups)\n",
    "#         else:\n",
    "#             count_non_data += 1\n",
    "#             if active and count_non_data < safe_None:\n",
    "#                 G0 = np.random.random(size=(2, 2))\n",
    "#                 G1 = np.random.random(size=(2, 2))\n",
    "#                 G2 = np.random.random(size=(3, 2))\n",
    "#                 hike.add_markers_from_videoframe(i, (G0, G1, G0))\n",
    "#                 hike.add_index_to_interpolate(i, (True, True, True))\n",
    "#             else:\n",
    "#                 if active:\n",
    "#                     backwards = (i - 1) - last_M\n",
    "#                     hike.rm_last_added_data(backwards)\n",
    "#                     hike.end_videoframe_position = i - backwards - 1\n",
    "#                     hikes.append(hike)\n",
    "#                     hike = None\n",
    "#                     active = False\n",
    "\n",
    "#     kinematics.append(Kinematic(hikes))"
   ]
  },
  {
   "cell_type": "code",
   "execution_count": null,
   "metadata": {
    "collapsed": true
   },
   "outputs": [],
   "source": [
    "# kinematics[0].joints.loc['right','ankle'].T.plot()\n",
    "# plt.axhline(0, 0, 100, c='k')\n",
    "# plt.show()"
   ]
  },
  {
   "cell_type": "code",
   "execution_count": null,
   "metadata": {
    "collapsed": true
   },
   "outputs": [],
   "source": [
    "# from time import sleep\n",
    "\n",
    "# H = trayectories[3]\n",
    "# X, Y = H.markers_as_dataframe('fixed').loc['pa'].values\n",
    "# M = H.start_videoframe_position\n",
    "# m = H.end_videoframe_position\n",
    "\n",
    "# indexes = H.cycles\n",
    "# vid = cv2.VideoCapture(path)\n",
    "# n = 0\n",
    "# i = 0\n",
    "# while True:\n",
    "#     slp = .001\n",
    "#     is_frame, frame = vid.read()\n",
    "#     if is_frame is False:\n",
    "#         break\n",
    "#     if n >= M and n < m:\n",
    "#         cv2.circle(frame, (X[i], Y[i]), 7, (0, 110, 225), -1)\n",
    "#         if i in indexes:\n",
    "#             slp = 1\n",
    "#         i += 1\n",
    "#     n += 1\n",
    "#     cv2.imshow(path, cv2.resize(frame, None, fx=.4, fy=.4))\n",
    "#     k = cv2.waitKey(30) & 0xff\n",
    "#     if k == 27:\n",
    "#         break\n",
    "#     sleep(slp)\n",
    "# vid.release()"
   ]
  },
  {
   "cell_type": "code",
   "execution_count": null,
   "metadata": {
    "collapsed": true
   },
   "outputs": [],
   "source": [
    "# color = {None:'', 1:'b', -1:'g'}\n",
    "# for H in trayectories:\n",
    "#     H.get_foot_direction()\n",
    "#     H.fix_groups()\n",
    "#     H.joints_definition()\n",
    "#     plt.plot(H.joints[0]['ankle'], color=color[H.direction])"
   ]
  }
 ],
 "metadata": {
  "kernelspec": {
   "display_name": "Python 2",
   "language": "python",
   "name": "python2"
  },
  "language_info": {
   "codemirror_mode": {
    "name": "ipython",
    "version": 2
   },
   "file_extension": ".py",
   "mimetype": "text/x-python",
   "name": "python",
   "nbconvert_exporter": "python",
   "pygments_lexer": "ipython2",
   "version": "2.7.13"
  }
 },
 "nbformat": 4,
 "nbformat_minor": 2
}

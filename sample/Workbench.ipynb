{
 "cells": [
  {
   "cell_type": "code",
   "execution_count": 1,
   "metadata": {
    "collapsed": true
   },
   "outputs": [],
   "source": [
    "import cv2\n",
    "import numpy as np\n",
    "import matplotlib.pyplot as plt\n",
    "import cProfile\n",
    "from collections import deque, Counter\n",
    "from time import time\n",
    "\n",
    "path = '/home/mariano/Descargas/VID_20170720_132629833.mp4'  # Belen\n",
    "# path = '/home/mariano/Descargas/VID_20170728_112226772.mp4'  # Maxi Hissa\n",
    "\n",
    "\n",
    "from calculo.video import centroid  # Cython\n",
    "\n",
    "def center_of_square(contour):\n",
    "    return centroid(*cv2.boundingRect(contour))\n",
    "\n",
    "def image_proccess(frame):\n",
    "    gray = cv2.cvtColor(frame, cv2.COLOR_BGR2GRAY)\n",
    "    binary = cv2.threshold(gray, 240., 255., cv2.THRESH_BINARY)[1]\n",
    "    contours= cv2.findContours(binary, cv2.RETR_EXTERNAL, cv2.CHAIN_APPROX_SIMPLE)[1]\n",
    "    mark = np.array(map(center_of_square, contours))\n",
    "    return mark.shape[0], mark\n"
   ]
  },
  {
   "cell_type": "code",
   "execution_count": 2,
   "metadata": {
    "collapsed": true
   },
   "outputs": [],
   "source": [
    "\n",
    "def roi_center(array, amp=1.15):\n",
    "    y1 = array[0][1]\n",
    "    y2 = array[-1][1]\n",
    "    dy = (y1 - y2)*amp\n",
    "    center = (y1 + y2) / 2\n",
    "    return(center - dy, center +  dy)  # límite superior, límite inferior\n",
    "\n",
    "def grouping(markers, n_expected, kroi=False):\n",
    "    if kroi:\n",
    "        Y = markers[:, 1]\n",
    "        G0 = markers[Y < kroi[0]]\n",
    "        G1 = markers[np.logical_and(Y > kroi[0], Y < kroi[1])]\n",
    "        G2 = markers[Y > kroi[1]]\n",
    "    else:\n",
    "        G0 = markers[5:, :]\n",
    "        G1 = markers[3:5, :]\n",
    "        G2 = markers[:3, :]\n",
    "    n_obtained = (G0.shape[0], G1.shape[0], G2.shape[0])\n",
    "    boolean_interpolate = [a != b for a, b in zip(n_expected, n_obtained)]\n",
    "    to_interpolate = [v for v, b in zip((0, 1, 2), boolean_interpolate) if b]\n",
    "    return(to_interpolate, (G0, G1, G2))"
   ]
  },
  {
   "cell_type": "code",
   "execution_count": 3,
   "metadata": {
    "scrolled": false
   },
   "outputs": [
    {
     "name": "stdout",
     "output_type": "stream",
     "text": [
      "CPU times: user 2min 19s, sys: 1.54 s, total: 2min 20s\n",
      "Wall time: 56.5 s\n"
     ]
    }
   ],
   "source": [
    "%%time\n",
    "# En este bloque se abre el video y se procesan las imágenes en busqueda de los\n",
    "# marcadores.\n",
    "# Solo se agregan al arreglo de datos(list) los arreglos de marcadores que se \n",
    "# delimitan en un intervalo cerrado cuyos extremos(arreglo de marcadores tambien)\n",
    "# poseen 7 marcadores.\n",
    "vid = cv2.VideoCapture(path)\n",
    "is_frame, frame = vid.read()\n",
    "expected_markers = (2, 2, 3)\n",
    "M = sum(expected_markers)\n",
    "safe_None = 25\n",
    "last_M = 0\n",
    "active = False\n",
    "count_non_data = 0\n",
    "data = []\n",
    "interp = []\n",
    "i = 0\n",
    "\n",
    "while is_frame:\n",
    "    m, mark = image_proccess(frame)\n",
    "    if mark.any():\n",
    "        if m == M:\n",
    "            active = True\n",
    "            last_M = i\n",
    "            count_non_data = 0\n",
    "        if active:\n",
    "            if m != M:\n",
    "                to_interp, groups = grouping(mark, expected_markers, kr)\n",
    "                data.append(groups)\n",
    "                interp.append((i, to_interp))\n",
    "            else:\n",
    "                __, groups = grouping(mark, expected_markers)\n",
    "                kr = roi_center(groups[1])\n",
    "                data.append(groups)\n",
    "        else:\n",
    "            data.append(None)\n",
    "    else:\n",
    "        count_non_data += 1\n",
    "        if active and count_non_data < safe_None:\n",
    "            data.append(mark)\n",
    "            interp.append(i)\n",
    "        else:\n",
    "            if active:\n",
    "                backwards = i - last_M\n",
    "                for __ in range(backwards - 1):\n",
    "                    data.pop()\n",
    "                    interp.pop()\n",
    "                data += [None, ]*backwards\n",
    "                active = False\n",
    "            else:\n",
    "                data.append(None)\n",
    "\n",
    "    is_frame, frame = vid.read()\n",
    "    i += 1"
   ]
  },
  {
   "cell_type": "code",
   "execution_count": 4,
   "metadata": {},
   "outputs": [
    {
     "data": {
      "text/plain": [
       "4169"
      ]
     },
     "execution_count": 4,
     "metadata": {},
     "output_type": "execute_result"
    }
   ],
   "source": [
    "len(data)"
   ]
  },
  {
   "cell_type": "code",
   "execution_count": 5,
   "metadata": {
    "collapsed": true
   },
   "outputs": [],
   "source": [
    "#Necesito corregir los marcadores de tobillo.\n",
    "def diff(array):\n",
    "    vel = []\n",
    "    for prev, new in zip(array[:-1], array[1:]):\n",
    "        if prev and new:\n",
    "            vel.append((new - prev) != 0)\n",
    "        else:\n",
    "            vel.append(None)\n",
    "    vel.append(None)\n",
    "    return vel\n",
    "\n",
    "\n",
    "def get_direction(foot_group):\n",
    "    if foot_group is None:\n",
    "        return 0\n",
    "    x_antepie = foot_group[0, 0]\n",
    "    x_talon = foot_group[1, 0]\n",
    "    if x_talon < x_antepie:\n",
    "        return 1\n",
    "    else:\n",
    "        return -1\n",
    "\n",
    "\n",
    "def sort_foot_markers(foot, direction=False):\n",
    "    if foot is None or foot.shape[0] != 3:\n",
    "        return None\n",
    "    else:\n",
    "        x1, x2, refer = foot[:, 0]\n",
    "        if direction:\n",
    "            if direction > 0:\n",
    "                if x1 < x2:\n",
    "                    talon = foot[0]\n",
    "                    antepie = foot[1]\n",
    "                else:\n",
    "                    talon = foot[1]\n",
    "                    antepie = foot[0]\n",
    "            elif direction < 0:\n",
    "                if x1 < x2:\n",
    "                    talon = foot[1]\n",
    "                    antepie = foot[0]\n",
    "                else:\n",
    "                    talon = foot[0]\n",
    "                    antepie = foot[1]\n",
    "        else:\n",
    "            values = ((abs(refer - x1), 0),\n",
    "                      (abs(refer - x2), 1))\n",
    "            talon = foot[min(values)[1]]\n",
    "            antepie = foot[max(values)[1]]            \n",
    "    maleolo = foot[-1]\n",
    "    return np.array((antepie, talon, maleolo))"
   ]
  },
  {
   "cell_type": "code",
   "execution_count": 6,
   "metadata": {
    "collapsed": true
   },
   "outputs": [],
   "source": [
    "# Todo revisar codigo completo en busqueda de simplificación.\n",
    "def set_direction(foot_markers, vel, none_limit=25):\n",
    "    values = []\n",
    "    buff = []\n",
    "    for i, vel in enumerate(vel):\n",
    "        if vel:\n",
    "            buff.append((i, 0))\n",
    "        elif vel is None:\n",
    "            values.append((i, None))\n",
    "        else:\n",
    "            ordered = sort_foot_markers(foot_markers[i])\n",
    "            direction = get_direction(ordered)\n",
    "            values.append((i, direction))\n",
    "\n",
    "    directions = []\n",
    "    for i, val in values + buff:\n",
    "        directions.insert(i, val)\n",
    "    none_values = 0\n",
    "    rare_indices = []\n",
    "    dire_indices = []\n",
    "    dire_values = []\n",
    "    for i, val in enumerate(directions):\n",
    "        if val is None:\n",
    "            if none_values < none_limit:\n",
    "                rare_indices.append(i)\n",
    "                none_values += 1\n",
    "            else:\n",
    "                if dire_values != []:\n",
    "                    freq = 1 if sum(dire_values) > 0 else -1\n",
    "                    for j in dire_indices + rare_indices[:-none_limit]:\n",
    "                        directions.pop(j)\n",
    "                        directions.insert(j, freq)\n",
    "                    dire_values = []\n",
    "                    dire_indices = []\n",
    "                    rare_indices = []\n",
    "        elif val == 0:\n",
    "            rare_indices.append(i)\n",
    "            none_values = 0\n",
    "        else:\n",
    "            dire_values.append(val)\n",
    "            dire_indices.append(i)\n",
    "            none_values = 0\n",
    "    return directions"
   ]
  },
  {
   "cell_type": "code",
   "execution_count": 7,
   "metadata": {
    "collapsed": true
   },
   "outputs": [],
   "source": [
    "foot_group = map(lambda x: x[2] if x is not None else None, data)\n",
    "y_foot = map(lambda x: x[0, 1] if x is not None else None, foot_group)"
   ]
  },
  {
   "cell_type": "code",
   "execution_count": 10,
   "metadata": {},
   "outputs": [],
   "source": [
    "vel = diff(y_foot)"
   ]
  },
  {
   "cell_type": "code",
   "execution_count": 13,
   "metadata": {},
   "outputs": [
    {
     "data": {
      "image/png": "[encoded data removed]",
      "text/plain": [
       "<matplotlib.figure.Figure at 0x7f16d9384810>"
      ]
     },
     "metadata": {},
     "output_type": "display_data"
    }
   ],
   "source": [
    "directions = set_direction(foot_group, vel)\n",
    "plt.plot(directions)\n",
    "plt.show()"
   ]
  },
  {
   "cell_type": "code",
   "execution_count": 14,
   "metadata": {
    "collapsed": true
   },
   "outputs": [],
   "source": [
    "foot_group = map(sort_foot_markers, foot_group, directions)"
   ]
  },
  {
   "cell_type": "code",
   "execution_count": 15,
   "metadata": {
    "collapsed": true
   },
   "outputs": [],
   "source": [
    "# TODO: modificar viejo codigo con la lista de los valores a interpolar.\n",
    "def linear(x, x1, x2, y1, y2):\n",
    "    num = (x - x1)*(y2 - y1)\n",
    "    div = (x2 - x1)\n",
    "    if not div.all():\n",
    "        return (y2 + y1) / 2\n",
    "    return num / div + y1\n",
    "\n",
    "def interpolate(A, B, n_steps):\n",
    "    n_steps += 1\n",
    "    x1, y1 = A.T\n",
    "    x2, y2 = B.T\n",
    "    dx = (x2 - x1) / n_steps\n",
    "    interpolated = []\n",
    "    for n in xrange(1, n_steps):\n",
    "        X = x1 + dx*n\n",
    "        Y = linear(X, x1, x2, y1, y2)\n",
    "        interpolated.append(np.array((X, Y), dtype=int).T)\n",
    "    return interpolated\n",
    "\n",
    "def fill_in(array, none_limit=25):\n",
    "    interpolated = []\n",
    "    none_indices = []\n",
    "    none_values = none_limit\n",
    "    for i, c_arr in enumerate(array):\n",
    "        if c_arr is None:\n",
    "            if none_values < none_limit:\n",
    "                none_indices.append(i)\n",
    "            else:\n",
    "                none_indices = []\n",
    "            none_values += 1\n",
    "        else:\n",
    "            if none_indices:\n",
    "                interp = interpolate(l_arr, c_arr, none_values)\n",
    "                for par in zip(none_indices, interp):\n",
    "                    interpolated.append(par)\n",
    "                none_indices = []\n",
    "                none_values = 0\n",
    "            else:\n",
    "                none_values = 0\n",
    "            l_arr = c_arr\n",
    "    for i, arr in interpolated:\n",
    "        array.pop(i)\n",
    "        array.insert(i, arr)"
   ]
  },
  {
   "cell_type": "code",
   "execution_count": 16,
   "metadata": {
    "collapsed": true
   },
   "outputs": [],
   "source": [
    "fill_in(foot_group)"
   ]
  },
  {
   "cell_type": "code",
   "execution_count": 19,
   "metadata": {
    "collapsed": true
   },
   "outputs": [],
   "source": [
    "from time import sleep\n",
    "array = foot_group\n",
    "\n",
    "vid = cv2.VideoCapture(path)\n",
    "n = 0\n",
    "while True:\n",
    "    is_frame, frame = vid.read()\n",
    "    if is_frame is False:\n",
    "        break\n",
    "    marker = array[n]\n",
    "    if marker is not None:\n",
    "        for arr in marker:\n",
    "            cv2.circle(frame, (arr[0], arr[1]), 7, (0, 0, 255), -1)\n",
    "    cv2.imshow(path, cv2.resize(frame, None, fx=.4, fy=.4))\n",
    "    k = cv2.waitKey(30) & 0xff\n",
    "    if k == 27:\n",
    "        break\n",
    "    n += 1\n",
    "    #sleep(.15)\n",
    "vid.release()\n",
    "cv2.destroyAllWindows()\n",
    "# El codigo está funcionando.\n",
    "# TODO: documentar, y realizar esquemas de lógica de control."
   ]
  },
  {
   "cell_type": "code",
   "execution_count": null,
   "metadata": {
    "collapsed": true
   },
   "outputs": [],
   "source": []
  }
 ],
 "metadata": {
  "kernelspec": {
   "display_name": "Python 2",
   "language": "python",
   "name": "python2"
  },
  "language_info": {
   "codemirror_mode": {
    "name": "ipython",
    "version": 2
   },
   "file_extension": ".py",
   "mimetype": "text/x-python",
   "name": "python",
   "nbconvert_exporter": "python",
   "pygments_lexer": "ipython2",
   "version": "2.7.13"
  }
 },
 "nbformat": 4,
 "nbformat_minor": 2
}

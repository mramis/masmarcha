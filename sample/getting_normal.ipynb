{
 "cells": [
  {
   "cell_type": "code",
   "execution_count": 33,
   "metadata": {},
   "outputs": [],
   "source": [
    "from os import path, listdir\n",
    "\n",
    "import numpy as np\n",
    "import matplotlib.pyplot as plt\n",
    "from numpy.linalg import norm\n",
    "import pandas as pd\n",
    "\n",
    "from process import extractJointMarkersArraysFromFiles\n",
    "from process import extractJointAnglesFromJointMarkersArrays\n",
    "from calculo.fourier_fit import fourierfit\n",
    "\n",
    "directorio = '/home/mariano/Escritorio/normkinovea'\n",
    "REF_NORM = map(\n",
    "    lambda ruta: path.join(directorio, ruta),\n",
    "    listdir(directorio)\n",
    "    )\n"
   ]
  },
  {
   "cell_type": "code",
   "execution_count": 41,
   "metadata": {},
   "outputs": [],
   "source": [
    "Norm_arrays = extractJointMarkersArraysFromFiles(REF_NORM)\n",
    "Norm_angles = extractJointAnglesFromJointMarkersArrays(Norm_arrays)\n",
    "\n",
    "Norm_cadera = []\n",
    "Norm_rodilla = []\n",
    "Norm_tobillo = []\n",
    "for __, value in Norm_angles.iteritems():\n",
    "    Norm_cadera.append(fourierfit(value['hip'], sample=101))\n",
    "    Norm_rodilla.append(fourierfit(value['knee'], sample=101))\n",
    "    Norm_tobillo.append(fourierfit(value['ankle'], sample=101))\n",
    "\n",
    "Norm_cadera_mean = np.array(Norm_cadera).mean(axis=0)\n",
    "Norm_rodilla_mean = np.array(Norm_rodilla).mean(axis=0)\n",
    "Norm_tobillo_mean = np.array(Norm_tobillo).mean(axis=0)\n",
    "\n",
    "SD_cadera_mean = np.array(Norm_cadera).std(axis=0)\n",
    "SD_rodilla_mean = np.array(Norm_rodilla).std(axis=0)\n",
    "SD_tobillo_mean = np.array(Norm_tobillo).std(axis=0)"
   ]
  },
  {
   "cell_type": "code",
   "execution_count": 45,
   "metadata": {},
   "outputs": [],
   "source": [
    "from itertools import product\n",
    "\n",
    "rows = tuple(product(('cadera', 'rodilla', 'tobillo'), ('mean', 'sd')))\n",
    "index = pd.MultiIndex.from_tuples(rows, names=['joints', 'stats'])\n",
    "\n",
    "data = np.array((Norm_cadera_mean,\n",
    "                 SD_cadera_mean,\n",
    "                 Norm_rodilla_mean,\n",
    "                 SD_rodilla_mean,\n",
    "                 Norm_tobillo_mean,\n",
    "                 SD_tobillo_mean))\n",
    "NORM = pd.DataFrame(data, index=index).T"
   ]
  },
  {
   "cell_type": "code",
   "execution_count": 49,
   "metadata": {},
   "outputs": [],
   "source": [
    "NORM.to_excel('normal.xlsx', sheet_name='angles')"
   ]
  }
 ],
 "metadata": {
  "kernelspec": {
   "display_name": "Python 2",
   "language": "python",
   "name": "python2"
  },
  "language_info": {
   "codemirror_mode": {
    "name": "ipython",
    "version": 2
   },
   "file_extension": ".py",
   "mimetype": "text/x-python",
   "name": "python",
   "nbconvert_exporter": "python",
   "pygments_lexer": "ipython2",
   "version": "2.7.13"
  }
 },
 "nbformat": 4,
 "nbformat_minor": 2
}
